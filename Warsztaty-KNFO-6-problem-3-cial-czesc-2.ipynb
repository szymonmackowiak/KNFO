{
 "cells": [
  {
   "cell_type": "markdown",
   "id": "de056359-ae51-4ef5-9489-925e9594ab4e",
   "metadata": {},
   "source": [
    "Funkcja obliczająca parowe oddziaływanie grawitacyjne"
   ]
  },
  {
   "cell_type": "code",
   "execution_count": 44,
   "id": "7e0ebb8d-6555-4905-b809-ee99c27786e4",
   "metadata": {},
   "outputs": [],
   "source": [
    "def acc_grav_2d(x_i, y_i, x_j, y_j, m_i, m_j, epsilon = 0.01):\n",
    "    G=1\n",
    "    dx = x_j-x_i\n",
    "    dy = y_j-y_i\n",
    "    r2 = dx**2 + dy**2 + epsilon**2\n",
    "    r = r2**0.5\n",
    "    ax_i = ((G*m_j)/(r**3))*(dx) \n",
    "    ay_i = ((G*m_j)/(r**3))*(dy) \n",
    "    ax_j = -((G*m_i)/(r**3))*(dx) \n",
    "    ay_j = -((G*m_i)/(r**3))*(dy)\n",
    "    \n",
    "    return ax_i, ay_i, ax_j, ay_j"
   ]
  },
  {
   "cell_type": "markdown",
   "id": "d8981ccf-a38a-4ee4-a15b-ebd05cc38a51",
   "metadata": {},
   "source": [
    "Tworzymy funkcję zwracającą listy przyspieszeń"
   ]
  },
  {
   "cell_type": "code",
   "execution_count": 46,
   "id": "e5e918ea-bb4d-40ca-babe-1e7a1f875afc",
   "metadata": {},
   "outputs": [],
   "source": [
    "def compute_acc(x, y, m):\n",
    "    N = len(x)\n",
    "    ax = [0.0]*N\n",
    "    ay = [0.0]*N\n",
    "    for i in range(N):\n",
    "        for j in range(i+1, N):\n",
    "            ax_i, ay_i, ax_j, ay_j = acc_grav_2d(x[i], y[i], x[j], y[j], m[i], m[j])\n",
    "            ax[i] += ax_i\n",
    "            ay[i] += ay_i\n",
    "            ax[j] += ax_j\n",
    "            ay[j] += ay_j\n",
    "    return ax, ay  "
   ]
  },
  {
   "cell_type": "markdown",
   "id": "ddf2235b-921f-4295-8d4f-3d08f04c7094",
   "metadata": {},
   "source": [
    "Tworzymy funkcję zwracającą energię całkowitą"
   ]
  },
  {
   "cell_type": "code",
   "execution_count": 48,
   "id": "e078b47d-6b25-4fe8-9287-30700c4f8fa0",
   "metadata": {},
   "outputs": [],
   "source": [
    "def compute_energy(x, y, vx, vy, m):\n",
    "    G = 1\n",
    "    N = len(x)\n",
    "    Ek = sum(0.5 * m[i] * (vx[i]**2 + vy[i]**2) for i in range(N))\n",
    "    Ep = 0.0\n",
    "    for i in range(N):\n",
    "        for j in range(i+1, N):\n",
    "            dx = x[j]-x[i]\n",
    "            dy = y[j]-y[i]\n",
    "            r = (dx**2 + dy**2)**0.5\n",
    "            if r!=0:\n",
    "                Ep -= G*m[i]*m[j]/r\n",
    "    return Ek + Ep\n",
    "            "
   ]
  },
  {
   "cell_type": "code",
   "execution_count": 50,
   "id": "a9ad2ea2-29be-466c-927d-450c82275926",
   "metadata": {},
   "outputs": [],
   "source": [
    "import math\n",
    "import json\n",
    "import matplotlib.pyplot as plt\n",
    "\n",
    "N = 3\n",
    "dt = 0.005\n",
    "steps = 1000\n",
    "\n",
    "m = [1, 1, 1]\n",
    "R = 1\n",
    "v = 0.5\n",
    "x = [R, -R/2, -R/2]\n",
    "y = [0, R*math.sqrt(3)/2, -R*math.sqrt(3)/2]\n",
    "vx = [0, -v, v]\n",
    "vy = [v, -v/2, -v/2]\n",
    "\n",
    "ax = [0.0]*N\n",
    "ay = [0.0]*N\n",
    "\n",
    "energy = []\n",
    "\n",
    "ax, ay = compute_acc(x, y, m)"
   ]
  },
  {
   "cell_type": "code",
   "execution_count": 19,
   "id": "b5e98739-db60-468c-8985-a4c2e0d9ca1d",
   "metadata": {},
   "outputs": [
    {
     "data": {
      "text/plain": [
       "[-0.5773214028789326, 0.2886607014394663, 0.2886607014394663]"
      ]
     },
     "execution_count": 19,
     "metadata": {},
     "output_type": "execute_result"
    }
   ],
   "source": [
    "ax"
   ]
  },
  {
   "cell_type": "code",
   "execution_count": 21,
   "id": "54d862f0-a778-4b48-8ba4-90a77c0a1957",
   "metadata": {},
   "outputs": [
    {
     "data": {
      "text/plain": [
       "[0.0, -0.4999750010416262, 0.4999750010416262]"
      ]
     },
     "execution_count": 21,
     "metadata": {},
     "output_type": "execute_result"
    }
   ],
   "source": [
    "ay"
   ]
  },
  {
   "cell_type": "markdown",
   "id": "f95937f4-4d4d-4d60-82d3-6eaeeaf17433",
   "metadata": {},
   "source": [
    "Główna pętla - algorytm Verleta (prędkościowy)"
   ]
  },
  {
   "cell_type": "code",
   "execution_count": 60,
   "id": "c8f1b17b-d445-4b47-89f9-6eeeca4d7785",
   "metadata": {},
   "outputs": [],
   "source": [
    "trajectories = [[] for _ in range(N)]\n",
    "\n",
    "for step in range(steps):\n",
    "\n",
    "    for i in range(N):\n",
    "        trajectories[i].append((x[i], y[i]))\n",
    "    \n",
    "    for i in range(N):\n",
    "        x[i] += vx[i]*dt + 0.5*ax[i]*dt**2\n",
    "        y[i] += vy[i]*dt + 0.5*ay[i]*dt**2\n",
    "\n",
    "    ax_new, ay_new = compute_acc(x, y, m)\n",
    "\n",
    "    for i in range(N):\n",
    "        vx[i] += 0.5*(ax[i]+ax_new[i])*dt\n",
    "        vy[i] += 0.5*(ay[i]+ay_new[i])*dt\n",
    "\n",
    "    ax, ay = ax_new, ay_new\n",
    "\n",
    "    E = compute_energy(x, y, vx, vy, m)\n",
    "    \n",
    "    energy.append(E)\n",
    "\n",
    "data = {\n",
    "    \"bodies\": [\n",
    "        [[float(x), float(y)] for (x, y) in body_traj]\n",
    "        for body_traj in trajectories\n",
    "    ]\n",
    "}\n",
    "\n",
    "with open(\"bodies_data.json\", \"w\") as f:\n",
    "    json.dump(data, f)\n",
    "        "
   ]
  },
  {
   "cell_type": "code",
   "execution_count": 40,
   "id": "61916721-304f-4374-9520-e2ef6cbeb96b",
   "metadata": {},
   "outputs": [],
   "source": [
    "import matplotlib.pyplot as plt"
   ]
  },
  {
   "cell_type": "code",
   "execution_count": 54,
   "id": "f39a23f1-d8f2-4e21-9766-8c0e77821b5b",
   "metadata": {},
   "outputs": [
    {
     "data": {
      "text/plain": [
       "[<matplotlib.lines.Line2D at 0x1527ddac0>]"
      ]
     },
     "execution_count": 54,
     "metadata": {},
     "output_type": "execute_result"
    },
    {
     "data": {
      "image/png": "[encoded data removed]",
      "text/plain": [
       "<Figure size 640x480 with 1 Axes>"
      ]
     },
     "metadata": {},
     "output_type": "display_data"
    }
   ],
   "source": [
    "plt.plot(energy)"
   ]
  },
  {
   "cell_type": "code",
   "execution_count": null,
   "id": "e2e37074-684f-4c4f-a85b-af75f8eeec91",
   "metadata": {},
   "outputs": [],
   "source": []
  }
 ],
 "metadata": {
  "kernelspec": {
   "display_name": "Python 3 (ipykernel)",
   "language": "python",
   "name": "python3"
  },
  "language_info": {
   "codemirror_mode": {
    "name": "ipython",
    "version": 3
   },
   "file_extension": ".py",
   "mimetype": "text/x-python",
   "name": "python",
   "nbconvert_exporter": "python",
   "pygments_lexer": "ipython3",
   "version": "3.12.4"
  }
 },
 "nbformat": 4,
 "nbformat_minor": 5
}
