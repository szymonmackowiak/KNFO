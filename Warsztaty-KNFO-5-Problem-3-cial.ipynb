{
 "cells": [
  {
   "cell_type": "code",
   "execution_count": 13,
   "id": "1073f855-238a-4e7e-a4e3-a21237dfcfb0",
   "metadata": {},
   "outputs": [],
   "source": [
    "def acc_grav_2d(x_i, y_i, x_j, y_j, m_i, m_j):\n",
    "    G=1\n",
    "    r = ((x_j-x_i)**2 + (y_j-y_i)**2)**0.5\n",
    "\n",
    "    ax_i = ((G*m_j)/(r**3))*(x_j-x_i) \n",
    "    ay_i = ((G*m_j)/(r**3))*(y_j-y_i) \n",
    "    ax_j = ((G*m_i)/(r**3))*(x_i-x_j) \n",
    "    ay_j = ((G*m_i)/(r**3))*(y_i-y_j)\n",
    "    \n",
    "    return ax_i, ay_i, ax_j, ay_j"
   ]
  },
  {
   "cell_type": "code",
   "execution_count": 9,
   "id": "080e6a15-bfab-4625-b81e-1ead367c9299",
   "metadata": {},
   "outputs": [
    {
     "data": {
      "text/plain": [
       "(0.25, 0.0, -0.25, 0.0)"
      ]
     },
     "execution_count": 9,
     "metadata": {},
     "output_type": "execute_result"
    }
   ],
   "source": [
    "acc_grav_2d(-1, 0, 1, 0, 1, 1)"
   ]
  },
  {
   "cell_type": "code",
   "execution_count": 19,
   "id": "42c69851-0a26-4fa7-a317-30245ccbd54f",
   "metadata": {},
   "outputs": [],
   "source": [
    "N = 3\n",
    "dt = 0.005\n",
    "\n",
    "m = [1, 1, 1]\n",
    "x = [-1, 0, 1]\n",
    "y = [0, 1, 0]\n",
    "vx = [0, 0, 0]\n",
    "vy = [0, 0, 0]\n",
    "ax = []\n",
    "ay = []\n",
    "\n",
    "for i in range(N):\n",
    "    j = (i+1)%N\n",
    "\n",
    "    m_i = m[i]\n",
    "    m_j = m[j]\n",
    "    \n",
    "    x_i = x[i]\n",
    "    y_i = y[i]\n",
    "    x_j = x[j]\n",
    "    y_j = y[j]\n",
    "    \n",
    "    ax_i, ay_i, ax_j, ay_j = acc_grav_2d(x_i, y_i, x_j, y_j, m_i, m_j)\n",
    "\n",
    "    ax.append(ax_i)\n",
    "    ay.append(ay_i)\n"
   ]
  },
  {
   "cell_type": "code",
   "execution_count": 23,
   "id": "d9cc19a8-446d-4593-8c7c-fd5297776ac2",
   "metadata": {},
   "outputs": [
    {
     "data": {
      "text/plain": [
       "[0.3535533905932737, -0.3535533905932737, 0.0]"
      ]
     },
     "execution_count": 23,
     "metadata": {},
     "output_type": "execute_result"
    }
   ],
   "source": [
    "ay"
   ]
  },
  {
   "cell_type": "markdown",
   "id": "80a9d4af-35f2-4eb7-a486-45a04552888b",
   "metadata": {},
   "source": [
    "# ZADANIA"
   ]
  },
  {
   "cell_type": "markdown",
   "id": "e8267511-7df0-4aaa-b962-a61132a89376",
   "metadata": {},
   "source": [
    "1. Poprawić pętlę obliczającą siły (przyspieszenia) tak, aby wyniki początkowych przyspieszeń pokrywały się z wynikami dla przypadku testowego (x = [-1, 0, 1] y = [0, 1, 0]).\n",
    "2. Skopiować wartości położeń, prędkości i przyspieszeń do zmiennych \"old\" (potrzebnych do pracy algorytmowi prędkościowemu Verleta).\n",
    "3. Rozbudować wcześniejszą wersję algorytmu Verleta tak, aby na bieżąco miał wyliczane nowe przyspieszenia.\n",
    "4. Zastosować algorytm Verleta do rozwiązania zagadnienia."
   ]
  },
  {
   "cell_type": "code",
   "execution_count": null,
   "id": "30aa04a5-1c16-4d29-9433-614c427f97a9",
   "metadata": {},
   "outputs": [],
   "source": []
  }
 ],
 "metadata": {
  "kernelspec": {
   "display_name": "Python 3 (ipykernel)",
   "language": "python",
   "name": "python3"
  },
  "language_info": {
   "codemirror_mode": {
    "name": "ipython",
    "version": 3
   },
   "file_extension": ".py",
   "mimetype": "text/x-python",
   "name": "python",
   "nbconvert_exporter": "python",
   "pygments_lexer": "ipython3",
   "version": "3.12.4"
  }
 },
 "nbformat": 4,
 "nbformat_minor": 5
}
